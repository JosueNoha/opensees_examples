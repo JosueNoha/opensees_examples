{
 "cells": [
  {
   "cell_type": "code",
   "execution_count": 63,
   "metadata": {},
   "outputs": [],
   "source": [
    "import openseespy.opensees as ops\n",
    "import numpy as np\n",
    "import matplotlib.pyplot as plt"
   ]
  },
  {
   "cell_type": "code",
   "execution_count": 64,
   "metadata": {},
   "outputs": [],
   "source": [
    "#Dimensiones del Modelo\n",
    "ops.wipe()\n",
    "ops.model('basic','-ndm',2,'-ndf',3) #ndm dimensiones; ndf grados de libertad"
   ]
  },
  {
   "cell_type": "markdown",
   "metadata": {},
   "source": [
    "image.png"
   ]
  },
  {
   "cell_type": "code",
   "execution_count": 65,
   "metadata": {},
   "outputs": [],
   "source": [
    "#Coordenadas de los nodos\n",
    "#nodo,x,y\n",
    "L = 1.0\n",
    "ops.node(1,0.0,0.0)\n",
    "ops.node(2,L,0.0)\n",
    "ops.node(3,2*L,0.0)\n",
    "ops.node(4,3*L,0.0)"
   ]
  },
  {
   "cell_type": "code",
   "execution_count": 66,
   "metadata": {},
   "outputs": [],
   "source": [
    "#Condiciones de apoyo\n",
    "#nodo, restricciones por GL\n",
    "ops.fix(1,1,1,0)\n",
    "ops.fix(2,0,1,0)\n",
    "ops.fix(3,0,1,0)\n",
    "ops.fix(4,0,1,0)"
   ]
  },
  {
   "cell_type": "code",
   "execution_count": 67,
   "metadata": {},
   "outputs": [],
   "source": [
    "#Transformación geometrica (Linear, PDelta o Corotational)\n",
    "ops.geomTransf('Linear',1)"
   ]
  },
  {
   "cell_type": "code",
   "execution_count": 68,
   "metadata": {},
   "outputs": [],
   "source": [
    "#Elementos\n",
    "Area = 1\n",
    "E_mod = 1.0\n",
    "Iz =1.0\n",
    "ops.element('elasticBeamColumn',1,1,2,Area,E_mod,Iz,1)\n",
    "ops.element('elasticBeamColumn',2,2,3,Area,E_mod,Iz,1)\n",
    "ops.element('elasticBeamColumn',3,3,4,Area,E_mod,Iz,1)"
   ]
  },
  {
   "cell_type": "code",
   "execution_count": 69,
   "metadata": {},
   "outputs": [],
   "source": [
    "#Cargas\n",
    "w = 1.0\n",
    "ops.timeSeries('Constant',1)\n",
    "ops.pattern('Plain',1,1) #tipo, tag, timeSeries tag\n",
    "ops.eleLoad('-ele',1,'-type','-beamUniform',-w)\n",
    "ops.eleLoad('-ele',2,'-type','-beamUniform',-w)"
   ]
  },
  {
   "cell_type": "code",
   "execution_count": 70,
   "metadata": {},
   "outputs": [],
   "source": [
    "#Cargas\n",
    "# w=1.0\n",
    "# ops.timeSeries('Constant',1)\n",
    "# ops.pattern('Plain',1,1)\n",
    "\n",
    "#Codigo Back\n",
    "def dist_load(eletag, w, n_points=50):\n",
    "    #ops.remove('ele', eletag)\n",
    "    i_point,f_point = ops.eleNodes(eletag)\n",
    "    w_p = w/n_points\n",
    "    \n",
    "\n"
   ]
  },
  {
   "cell_type": "code",
   "execution_count": 71,
   "metadata": {},
   "outputs": [],
   "source": [
    "#ops.node(5,0.5*L,0.0)"
   ]
  },
  {
   "cell_type": "code",
   "execution_count": null,
   "metadata": {},
   "outputs": [
    {
     "name": "stderr",
     "output_type": "stream",
     "text": [
      "WARNING analysis Static - no Algorithm yet specified, \n",
      " NewtonRaphson default will be used\n",
      "WARNING analysis Static - no ConstraintHandler yet specified, \n",
      " PlainHandler default will be used\n",
      "WARNING analysis Static - no Numberer specified, \n",
      " RCM default will be used\n",
      "WARNING analysis Static - no Integrator specified, \n",
      " StaticIntegrator default will be used\n",
      "WARNING analysis Static - no LinearSOE specified, \n",
      " ProfileSPDLinSOE default will be used\n"
     ]
    },
    {
     "data": {
      "text/plain": [
       "0"
      ]
     },
     "execution_count": 58,
     "metadata": {},
     "output_type": "execute_result"
    }
   ],
   "source": [
    "ops.analysis('Static')\n",
    "ops.analyze(1)"
   ]
  },
  {
   "cell_type": "code",
   "execution_count": null,
   "metadata": {},
   "outputs": [
    {
     "name": "stdout",
     "output_type": "stream",
     "text": [
      "[0.0, 0.38333333333333336, 1.3877787807814457e-17]\n",
      "[0.0, 1.2, -1.3877787807814457e-17]\n",
      "[0.0, 0.45, 0.0]\n",
      "[0.0, -0.03333333333333333, 0.0]\n"
     ]
    }
   ],
   "source": [
    "#Resultados\n",
    "ops.reactions()\n",
    "print(ops.nodeReaction(1))\n",
    "print(ops.nodeReaction(2))\n",
    "print(ops.nodeReaction(3))\n",
    "print(ops.nodeReaction(4))\n",
    "#print(ops.nodeReaction(5))"
   ]
  },
  {
   "cell_type": "code",
   "execution_count": null,
   "metadata": {},
   "outputs": [
    {
     "name": "stdout",
     "output_type": "stream",
     "text": [
      "[0.0, 0.5, 0.08333333333333333, 0.0, 0.5, -0.08333333333333333]\n",
      "[0.0, 0.5, 0.08333333333333333, 0.0, 0.5, -0.08333333333333333]\n",
      "[0.0, 0.0, 0.0, 0.0, 0.0, 0.0]\n"
     ]
    }
   ],
   "source": [
    "print(ops.eleForce(1))\n",
    "print(ops.eleForce(2))\n",
    "print(ops.eleForce(3))"
   ]
  },
  {
   "cell_type": "code",
   "execution_count": 78,
   "metadata": {},
   "outputs": [
    {
     "data": {
      "text/plain": [
       "[1, 2, 3, 4]"
      ]
     },
     "execution_count": 78,
     "metadata": {},
     "output_type": "execute_result"
    }
   ],
   "source": [
    "ops.getNodeTags()"
   ]
  }
 ],
 "metadata": {
  "kernelspec": {
   "display_name": "Python 3.9.7 ('structures')",
   "language": "python",
   "name": "python3"
  },
  "language_info": {
   "codemirror_mode": {
    "name": "ipython",
    "version": 3
   },
   "file_extension": ".py",
   "mimetype": "text/x-python",
   "name": "python",
   "nbconvert_exporter": "python",
   "pygments_lexer": "ipython3",
   "version": "3.9.7"
  },
  "orig_nbformat": 4,
  "vscode": {
   "interpreter": {
    "hash": "bac46d45b902eb1257731b3cec425c94a9ada4fac09ba91d7557c516a1f31c36"
   }
  }
 },
 "nbformat": 4,
 "nbformat_minor": 2
}
