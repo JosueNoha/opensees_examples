{
 "cells": [
  {
   "cell_type": "code",
   "execution_count": 79,
   "metadata": {},
   "outputs": [],
   "source": [
    "import openseespy.opensees as ops\n",
    "import numpy as np\n",
    "import matplotlib.pyplot as plt\n",
    "import opsvis as opsv"
   ]
  },
  {
   "cell_type": "code",
   "execution_count": 80,
   "metadata": {},
   "outputs": [],
   "source": [
    "ops.wipe()\n",
    "ops.model('basic','-ndm',2,'-ndf',3)"
   ]
  },
  {
   "cell_type": "code",
   "execution_count": 81,
   "metadata": {},
   "outputs": [],
   "source": [
    "#Materiales\n",
    "fpc = -41000\n",
    "epsc0 = -0.003\n",
    "fpcu = 0.20*fpc\n",
    "epsU = -0.006\n",
    "lambdaC = 0.5\n",
    "ft = 0.65*28*0.5*1000\n",
    "Ets = (2*fpc/epsc0)\n",
    "ops.uniaxialMaterial('Concrete02',1,fpc,epsc0,fpcu,epsU,lambdaC,ft,Ets)\n",
    "\n",
    "Fy = 420000\n",
    "E0 = 200000000\n",
    "b = 0.007\n",
    "ops.uniaxialMaterial('Steel02',2,Fy,E0,b)\n"
   ]
  },
  {
   "cell_type": "code",
   "execution_count": 82,
   "metadata": {},
   "outputs": [],
   "source": [
    "#Crear Seccion\n",
    "GJ = 1e14\n",
    "ops.section('Fiber',1,'-GJ',GJ)\n",
    "\n",
    "B = 0.55\n",
    "H = 0.80\n",
    "crdsI = [-H/2,-B/2]\n",
    "crdsJ = [H/2,B/2]\n",
    "ops.patch('rect',1,10,1,*crdsI,*crdsJ)\n",
    "\n",
    "AN6 = 284e-6\n",
    "ops.layer = ('straight',2,6,AN6,*[-H/2+0.05,-B/2+0.05],*[-H/2+0.05,B/2-0.05])\n",
    "AN7 = 387e-6\n",
    "ops.layer = ('straight',2,6,AN7,*[H/2-0.05,-B/2+0.05],*[H/2-0.05,B/2-0.05])"
   ]
  },
  {
   "cell_type": "code",
   "execution_count": 83,
   "metadata": {},
   "outputs": [],
   "source": [
    "#Carga Axial de la Seccion\n",
    "P = 0.0\n",
    "\n",
    "#Nodos\n",
    "ops.node(1,0.0,0.0)\n",
    "ops.node(2,0.0,0.0)\n",
    "ops.fix(1,1,1,1)\n",
    "ops.fix(2,0,1,0)\n",
    "\n",
    "#Elementos de longitud cero\n",
    "ops.element('zeroLengthSection',1,1,2,1)\n",
    "\n",
    "#Patron de carga axial\n",
    "ops.timeSeries('Linear',1)\n",
    "ops.pattern('Plain',1,1)\n",
    "ops.load(2,P,0.0,0.0)\n",
    "\n",
    "#Analisis\n",
    "ops.constraints('Plain')\n",
    "ops.numberer('Plain')\n",
    "ops.system('BandGeneral')\n",
    "ops.test('EnergyIncr',1.0e-6,30)\n",
    "ops.algorithm('Newton')\n",
    "NSteps = 10\n",
    "ops.integrator('LoadControl',1/NSteps)\n",
    "ops.analysis('Static')\n",
    "ops.analyze(NSteps)\n",
    "ops.wipeAnalysis()\n"
   ]
  },
  {
   "cell_type": "code",
   "execution_count": 84,
   "metadata": {},
   "outputs": [
    {
     "name": "stdout",
     "output_type": "stream",
     "text": [
      "El analisis Momento Curvatura Fallo:  0.008475000000000024\n"
     ]
    },
    {
     "name": "stderr",
     "output_type": "stream",
     "text": [
      "WARNING DisplacementControl::update() dUahat is zero -- zero reference displacement at control node DOF\n",
      "WARNING NewtonRaphson::solveCurrentStep() -the Integrator failed in update()\n",
      "StaticAnalysis::analyze() - the Algorithm failed at step: 0 with domain at load factor 32.21\n",
      "OpenSees > analyze failed, returned: -3 error flag\n"
     ]
    }
   ],
   "source": [
    "ops.loadConst('-time',0.0)\n",
    "\n",
    "#Definir el patron de carga\n",
    "ops.timeSeries('Linear',2)\n",
    "ops.pattern('Plain',2,2)\n",
    "ops.load(2,0.0,0.0,1.0)\n",
    "\n",
    "#Analisis\n",
    "ops.constraints('Plain')\n",
    "ops.numberer('Plain')\n",
    "ops.system('BandGeneral')\n",
    "ops.test('EnergyIncr',1.0e-6,100)\n",
    "ops.algorithm('Newton')\n",
    "maxK = 0.0021/(0.7*H)*20\n",
    "numIncr = 1000\n",
    "ops.integrator('DisplacementControl',2,3,maxK/numIncr)\n",
    "ops.analysis('Static')\n",
    "\n",
    "ops.recorder('Node','-file','moment_strain_curvatures.out','-time','node',2,'-dof',1,3,'disp')\n",
    "\n",
    "while ops.nodeDisp(2,3) <= maxK:\n",
    "    ok = ops.analyze(1)\n",
    "    if  ok != 0:\n",
    "        print('El analisis Momento Curvatura Fallo: ',ops.nodeDisp(2,3))\n",
    "        break\n",
    "\n",
    "ops.wipeAnalysis()\n",
    "ops.remove('recorders')\n"
   ]
  },
  {
   "cell_type": "code",
   "execution_count": 85,
   "metadata": {},
   "outputs": [
    {
     "data": {
      "image/png": "[encoded data removed]",
      "text/plain": [
       "<Figure size 432x288 with 1 Axes>"
      ]
     },
     "metadata": {},
     "output_type": "display_data"
    }
   ],
   "source": [
    "Mek = np.loadtxt('moment_strain_curvatures.out')\n",
    "plt.figure()\n",
    "plt.plot(Mek[:,4],Mek[:,0])\n",
    "plt.show()"
   ]
  }
 ],
 "metadata": {
  "kernelspec": {
   "display_name": "Python 3.9.7 ('structures')",
   "language": "python",
   "name": "python3"
  },
  "language_info": {
   "codemirror_mode": {
    "name": "ipython",
    "version": 3
   },
   "file_extension": ".py",
   "mimetype": "text/x-python",
   "name": "python",
   "nbconvert_exporter": "python",
   "pygments_lexer": "ipython3",
   "version": "3.9.7"
  },
  "orig_nbformat": 4,
  "vscode": {
   "interpreter": {
    "hash": "bac46d45b902eb1257731b3cec425c94a9ada4fac09ba91d7557c516a1f31c36"
   }
  }
 },
 "nbformat": 4,
 "nbformat_minor": 2
}
